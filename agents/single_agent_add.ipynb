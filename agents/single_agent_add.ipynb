{
 "cells": [
  {
   "cell_type": "code",
   "execution_count": 8,
   "id": "97e7a332",
   "metadata": {},
   "outputs": [
    {
     "data": {
      "text/plain": [
       "AIMessage(content=\"Hello! How can I help you today? Is there something in particular you'd like to know or discuss? Feel free to ask me anything you're curious about!\", additional_kwargs={}, response_metadata={'model': 'qwen2.5:0.5b', 'created_at': '2025-06-21T12:02:22.4860564Z', 'done': True, 'done_reason': 'stop', 'total_duration': 347709700, 'load_duration': 19361200, 'prompt_eval_count': 33, 'prompt_eval_duration': 8716100, 'eval_count': 34, 'eval_duration': 317513600, 'message': Message(role='assistant', content='', images=None, tool_calls=None)}, id='run--601834a4-a6cb-40e3-bad5-ca6c9a7fa586-0', usage_metadata={'input_tokens': 33, 'output_tokens': 34, 'total_tokens': 67})"
      ]
     },
     "execution_count": 8,
     "metadata": {},
     "output_type": "execute_result"
    }
   ],
   "source": [
    "from typing import Annotated\n",
    "from typing_extensions import TypedDict, Optional\n",
    "\n",
    "from langgraph.graph import StateGraph, START, END\n",
    "from langchain_core.messages import AnyMessage, HumanMessage, SystemMessage, AIMessage\n",
    "from langgraph.graph import add_messages\n",
    "from langchain_deepseek import ChatDeepSeek\n",
    "from langchain_ollama import ChatOllama\n",
    "\n",
    "from pydantic import BaseModel, Field\n",
    "\n",
    "llm = ChatOllama(model=\"qwen2.5:0.5b\")\n",
    "\n",
    "message = [HumanMessage(content=\"Hello, world!\")]\n",
    "\n",
    "llm.invoke(message)"
   ]
  },
  {
   "cell_type": "code",
   "execution_count": null,
   "id": "573b6e5d",
   "metadata": {},
   "outputs": [],
   "source": [
    "\n",
    "\n",
    "class userinfo(BaseModel):\n",
    "    name: str = Field(..., description=\"The name of the user\")\n",
    "    id: str = Field(..., description=\"The id of the user, 身份证号\")\n",
    "    phone: Optional[str] = Field(None, description=\"The phone number of the user\")\n",
    "    introduction: Optional[str] = Field(None, description=\"A brief introduction of the user\")\n",
    "\n",
    "\n",
    "structurt = llm.with_structured_output(userinfo)\n",
    "\n",
    "# answer = structurt.invoke(\"My name is John Doe, my id is 123456789012345678, my phone number is 123-456-7890, and I am a software engineer.\")\n",
    "\n",
    "\n",
    "class input_state(TypedDict):\n",
    "    # mm: Annotated[int, add_messages]\n",
    "    mm: int\n",
    "\n",
    "\n",
    "def node_a(input:input_state):\n",
    "    \"\"\"A node that processes the input state.\"\"\"\n",
    "    x = input[\"mm\"]\n",
    "    print(input)\n",
    "    return {\"mm\": x+10}\n",
    "\n",
    "def node_b(input:input_state):\n",
    "    \"\"\"A node that processes the input state.\"\"\"\n",
    "    x = input[\"mm\"]\n",
    "    print(input)\n",
    "    return {\"mm\": x*10}\n",
    "\n",
    "graph = StateGraph(input_state)\n",
    "\n",
    "graph.add_node(\"node_a\", node_a)\n",
    "graph.add_node(\"node_b\", node_b)\n",
    "\n",
    "graph.add_edge(START, \"node_a\")\n",
    "graph.add_edge(\"node_a\", \"node_b\")\n",
    "graph.add_edge(\"node_b\", END)\n",
    "\n",
    "graph = graph.compile()\n",
    "\n",
    "answer = graph.invoke({'mm': 23})\n",
    "print(answer)"
   ]
  },
  {
   "cell_type": "code",
   "execution_count": null,
   "id": "13990ecd",
   "metadata": {},
   "outputs": [],
   "source": [
    "class input_state(TypedDict):\n",
    "    mm: Annotated[list[AnyMessage], add_messages]\n",
    "    # mm: int\n",
    "\n",
    "\n",
    "def node_a(input:input_state):\n",
    "    \"\"\"A node that processes the input state.\"\"\"\n",
    "    message = {\"role\": \"user\", \"content\": \"what's your name?\"}\n",
    "    answer = llm.invoke(message)\n",
    "    return {\"mm\": answer}\n",
    "\n",
    "def node_b(input:input_state):\n",
    "    \"\"\"A node that processes the input state.\"\"\"\n",
    "    x = input[\"mm\"]\n",
    "    messages = input[\"mm\"]\n",
    "    return {\"mm\": x*10}\n",
    "\n",
    "graph = StateGraph(input_state)\n",
    "\n",
    "graph.add_node(\"node_a\", node_a)\n",
    "graph.add_node(\"node_b\", node_b)\n",
    "\n",
    "graph.add_edge(START, \"node_a\")\n",
    "graph.add_edge(\"node_a\", \"node_b\")\n",
    "graph.add_edge(\"node_b\", END)\n",
    "\n",
    "graph = graph.compile()\n",
    "\n",
    "answer = graph.invoke({'mm': 23})\n",
    "print(answer)"
   ]
  }
 ],
 "metadata": {
  "kernelspec": {
   "display_name": "langchain",
   "language": "python",
   "name": "python3"
  },
  "language_info": {
   "codemirror_mode": {
    "name": "ipython",
    "version": 3
   },
   "file_extension": ".py",
   "mimetype": "text/x-python",
   "name": "python",
   "nbconvert_exporter": "python",
   "pygments_lexer": "ipython3",
   "version": "3.11.11"
  }
 },
 "nbformat": 4,
 "nbformat_minor": 5
}
