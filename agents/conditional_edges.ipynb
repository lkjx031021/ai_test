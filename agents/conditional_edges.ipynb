{
 "cells": [
  {
   "cell_type": "code",
   "execution_count": null,
   "id": "3c6e9e96",
   "metadata": {},
   "outputs": [
    {
     "data": {
      "text/plain": [
       "AIMessage(content=\"<think>\\nOkay, the user is asking for the capital of France. I know that France is a country in Europe, and I remember that Paris is its capital. But wait, I should make sure I'm not mixing up any other cities. Let me think. France has several major cities like Marseille, Lyon, and Bordeaux, but the capital is definitely Paris. I think the reason is that Paris has been the political, cultural, and economic center for a long time. Also, the French government is based there, and it's where the Eiffel Tower is located. I don't recall any other cities being the capital. So the answer should be Paris.\\n</think>\\n\\nThe capital of France is **Paris**. It is the country's political, cultural, and economic center and is home to iconic landmarks such as the Eiffel Tower and the Louvre Museum.\", additional_kwargs={}, response_metadata={'model': 'qwen3:4b', 'created_at': '2025-06-25T14:29:21.669086704Z', 'done': True, 'done_reason': 'stop', 'total_duration': 1422189149, 'load_duration': 9387545, 'prompt_eval_count': 26, 'prompt_eval_duration': 16916561, 'eval_count': 177, 'eval_duration': 1393652245, 'message': Message(role='assistant', content='', images=None, tool_calls=None)}, id='run--1bc18866-ee43-4453-a32a-51a3d2d66fb0-0', usage_metadata={'input_tokens': 26, 'output_tokens': 177, 'total_tokens': 203})"
      ]
     },
     "execution_count": 1,
     "metadata": {},
     "output_type": "execute_result"
    }
   ],
   "source": [
    "from typing import TypedDict\n",
    "from langgraph.graph import START,END, StateGraph\n",
    "from langchain_deepseek import ChatDeepSeek\n",
    "from langchain_ollama import ChatOllama\n",
    "from langchain_core.messages import HumanMessage, AIMessage  \n",
    "import re\n",
    "from langgraph.graph import add_messages\n",
    "\n",
    "from langchain_core.prompts import ChatPromptTemplate\n",
    "\n",
    "prompt = ChatPromptTemplate.from_messages(\n",
    "    [\n",
    "        (\"system\", \"You are a helpful assistant.\"),\n",
    "        (\"human\", \"{input}\"),]\n",
    ")\n",
    "\n",
    "llm = ChatOllama(model=\"qwen3:4b\")\n",
    "\n",
    "message = [HumanMessage(content=\"Hello, world!\")]\n",
    "\n",
    "def extract_content(messages: AIMessage):\n",
    "    mm = messages.content \n",
    "    mm = re.sub(r\"<think>.*?</think>\", \"\", mm, flags=re.DOTALL)\n",
    "    return mm\n",
    "\n",
    "llm = prompt | llm | extract_content\n",
    "llm.invoke({\"input\": \"What is the capital of France?\"})"
   ]
  }
 ],
 "metadata": {
  "kernelspec": {
   "display_name": "langchain",
   "language": "python",
   "name": "python3"
  },
  "language_info": {
   "codemirror_mode": {
    "name": "ipython",
    "version": 3
   },
   "file_extension": ".py",
   "mimetype": "text/x-python",
   "name": "python",
   "nbconvert_exporter": "python",
   "pygments_lexer": "ipython3",
   "version": "3.11.11"
  }
 },
 "nbformat": 4,
 "nbformat_minor": 5
}
