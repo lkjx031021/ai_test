{
 "cells": [
  {
   "cell_type": "code",
   "execution_count": 1,
   "id": "fd6c7e27",
   "metadata": {},
   "outputs": [
    {
     "ename": "AttributeError",
     "evalue": "module 'torch._C' has no attribute '_cuda_setDevice'",
     "output_type": "error",
     "traceback": [
      "\u001b[1;31m---------------------------------------------------------------------------\u001b[0m",
      "\u001b[1;31mAttributeError\u001b[0m                            Traceback (most recent call last)",
      "Cell \u001b[1;32mIn[1], line 3\u001b[0m\n\u001b[0;32m      1\u001b[0m \u001b[38;5;28;01mimport\u001b[39;00m\u001b[38;5;250m \u001b[39m\u001b[38;5;21;01mtorch\u001b[39;00m\n\u001b[0;32m      2\u001b[0m \u001b[38;5;28;01mimport\u001b[39;00m\u001b[38;5;250m \u001b[39m\u001b[38;5;21;01mgymnasium\u001b[39;00m\u001b[38;5;250m \u001b[39m\u001b[38;5;28;01mas\u001b[39;00m\u001b[38;5;250m \u001b[39m\u001b[38;5;21;01mgym\u001b[39;00m\n\u001b[1;32m----> 3\u001b[0m \u001b[43mtorch\u001b[49m\u001b[38;5;241;43m.\u001b[39;49m\u001b[43mcuda\u001b[49m\u001b[38;5;241;43m.\u001b[39;49m\u001b[43mset_device\u001b[49m\u001b[43m(\u001b[49m\u001b[38;5;241;43m0\u001b[39;49m\u001b[43m)\u001b[49m\n",
      "File \u001b[1;32mc:\\ProgramData\\anaconda3\\envs\\ryzen-ai-1.3.1\\lib\\site-packages\\torch\\cuda\\__init__.py:399\u001b[0m, in \u001b[0;36mset_device\u001b[1;34m(device)\u001b[0m\n\u001b[0;32m    397\u001b[0m device \u001b[38;5;241m=\u001b[39m _get_device_index(device)\n\u001b[0;32m    398\u001b[0m \u001b[38;5;28;01mif\u001b[39;00m device \u001b[38;5;241m>\u001b[39m\u001b[38;5;241m=\u001b[39m \u001b[38;5;241m0\u001b[39m:\n\u001b[1;32m--> 399\u001b[0m     \u001b[43mtorch\u001b[49m\u001b[38;5;241;43m.\u001b[39;49m\u001b[43m_C\u001b[49m\u001b[38;5;241;43m.\u001b[39;49m\u001b[43m_cuda_setDevice\u001b[49m(device)\n",
      "\u001b[1;31mAttributeError\u001b[0m: module 'torch._C' has no attribute '_cuda_setDevice'"
     ]
    }
   ],
   "source": [
    "import torch\n",
    "import gymnasium as gym\n",
    "torch.cuda.set_device(0)"
   ]
  },
  {
   "cell_type": "code",
   "execution_count": 2,
   "id": "2071e14e",
   "metadata": {},
   "outputs": [
    {
     "name": "stdout",
     "output_type": "stream",
     "text": [
      "tensor([ 6., 12., 10.])\n",
      "tensor([[0.1667, 0.3333, 0.5000],\n",
      "        [0.1667, 0.4167, 0.4167],\n",
      "        [0.3000, 0.4000, 0.3000]])\n",
      "tensor([[-1.7918, -1.0986, -0.6931],\n",
      "        [-1.7918, -0.8755, -0.8755],\n",
      "        [-1.2040, -0.9163, -1.2040]])\n"
     ]
    },
    {
     "data": {
      "text/plain": [
       "tensor([-0.6931, -0.8755, -0.9163])"
      ]
     },
     "execution_count": 2,
     "metadata": {},
     "output_type": "execute_result"
    }
   ],
   "source": [
    "tt = torch.softmax(torch.randn(10,3), dim=-1)\n",
    "tt = torch.tensor(\n",
    "    [ [0.1, 0.2, 0.7],\n",
    "        [2,5,5],\n",
    "        [0.3, 0.4, 0.3]], dtype=torch.float32)\n",
    "tt = torch.tensor(\n",
    "    [ [1, 2, 3],\n",
    "        [2,5,5],\n",
    "        [3, 4, 3]], dtype=torch.float32)\n",
    "print(tt.sum(dim=-1, ))\n",
    "print(tt / tt.sum(dim=-1, keepdim=True))\n",
    "print(torch.log(tt / tt.sum(dim=-1, keepdim=True))) \n",
    "dist = torch.distributions.Categorical(tt)\n",
    "dist.log_prob(torch.tensor([2, 1, 1], dtype=torch.int64))\n",
    "# dist.sample()\n",
    "# print(torch.log(torch.tensor()))"
   ]
  },
  {
   "cell_type": "code",
   "execution_count": 3,
   "id": "6e417aa3",
   "metadata": {},
   "outputs": [
    {
     "name": "stdout",
     "output_type": "stream",
     "text": [
      "tensor([0.0909, 0.1818, 0.7273])\n",
      "tensor(2)\n",
      "tensor(-0.3185)\n",
      "tensor(-0.3184)\n"
     ]
    }
   ],
   "source": [
    "torch.log(torch.tensor(0.0900))\n",
    "probs = torch.tensor([0.1, 0.2, 0.8])\n",
    "print(probs / probs.sum())\n",
    "dist = torch.distributions.Categorical(probs)\n",
    "sample = dist.sample()  # 随机采样一个类别\n",
    "logp = dist.log_prob(torch.tensor(2))  # 计算类别2的对数概率\n",
    "print(sample)\n",
    "print(logp)\n",
    "print(torch.log(torch.tensor(0.7273)))"
   ]
  },
  {
   "cell_type": "code",
   "execution_count": null,
   "id": "bc6a7ee9",
   "metadata": {},
   "outputs": [
    {
     "name": "stdout",
     "output_type": "stream",
     "text": [
      "[-0.02987477 -0.01096718 -0.01463353  0.03433904]\n"
     ]
    },
    {
     "ename": "",
     "evalue": "",
     "output_type": "error",
     "traceback": [
      "\u001b[1;31mThe Kernel crashed while executing code in the current cell or a previous cell. \n",
      "\u001b[1;31mPlease review the code in the cell(s) to identify a possible cause of the failure. \n",
      "\u001b[1;31mClick <a href='https://aka.ms/vscodeJupyterKernelCrash'>here</a> for more info. \n",
      "\u001b[1;31mView Jupyter <a href='command:jupyter.viewOutput'>log</a> for further details."
     ]
    }
   ],
   "source": [
    "env = gym.make('CartPole-v1', render_mode=\"human\")\n",
    "    # 获取状态和动作空间的维度\n",
    "state_dim = env.observation_space.shape[0]  # 值为4，表示：\n",
    "action_dim = env.action_space.n  # 值为2，表示：\n",
    "state, _ = env.reset()         # 重置环境，获取初始状态\n",
    "print(state)"
   ]
  },
  {
   "cell_type": "code",
   "execution_count": 5,
   "id": "a3099acc",
   "metadata": {},
   "outputs": [
    {
     "data": {
      "text/plain": [
       "tensor([[-0.2383,  0.2000,  0.7000],\n",
       "        [ 1.0000,  1.5717,  6.8711]])"
      ]
     },
     "execution_count": 5,
     "metadata": {},
     "output_type": "execute_result"
    }
   ],
   "source": [
    "tt = torch.tensor([\n",
    "    [0.1, 0.2, 0.7],\n",
    "    [1, 2, 7],\n",
    "    ])\n",
    "tt.std()\n",
    "torch.min(tt, tt+torch.rand_like(tt) - 0.5)"
   ]
  }
 ],
 "metadata": {
  "kernelspec": {
   "display_name": "ryzen-ai-1.3.1",
   "language": "python",
   "name": "python3"
  },
  "language_info": {
   "codemirror_mode": {
    "name": "ipython",
    "version": 3
   },
   "file_extension": ".py",
   "mimetype": "text/x-python",
   "name": "python",
   "nbconvert_exporter": "python",
   "pygments_lexer": "ipython3",
   "version": "3.10.6"
  }
 },
 "nbformat": 4,
 "nbformat_minor": 5
}
