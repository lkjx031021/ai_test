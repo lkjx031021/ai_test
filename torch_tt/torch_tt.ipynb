{
 "cells": [
  {
   "cell_type": "code",
   "execution_count": 1,
   "id": "fd6c7e27",
   "metadata": {},
   "outputs": [],
   "source": [
    "import torch\n",
    "import gymnasium as gym\n",
    "torch.cuda.set_device(0)"
   ]
  },
  {
   "cell_type": "code",
   "execution_count": 2,
   "id": "2071e14e",
   "metadata": {},
   "outputs": [
    {
     "name": "stdout",
     "output_type": "stream",
     "text": [
      "tensor([ 6., 12., 10.])\n",
      "tensor([[0.1667, 0.3333, 0.5000],\n",
      "        [0.1667, 0.4167, 0.4167],\n",
      "        [0.3000, 0.4000, 0.3000]])\n",
      "tensor([[-1.7918, -1.0986, -0.6931],\n",
      "        [-1.7918, -0.8755, -0.8755],\n",
      "        [-1.2040, -0.9163, -1.2040]])\n"
     ]
    },
    {
     "data": {
      "text/plain": [
       "tensor([-0.6931, -0.8755, -0.9163])"
      ]
     },
     "execution_count": 2,
     "metadata": {},
     "output_type": "execute_result"
    }
   ],
   "source": [
    "tt = torch.softmax(torch.randn(10,3), dim=-1)\n",
    "tt = torch.tensor(\n",
    "    [ [0.1, 0.2, 0.7],\n",
    "        [2,5,5],\n",
    "        [0.3, 0.4, 0.3]], dtype=torch.float32)\n",
    "tt = torch.tensor(\n",
    "    [ [1, 2, 3],\n",
    "        [2,5,5],\n",
    "        [3, 4, 3]], dtype=torch.float32)\n",
    "print(tt.sum(dim=-1, ))\n",
    "print(tt / tt.sum(dim=-1, keepdim=True))\n",
    "print(torch.log(tt / tt.sum(dim=-1, keepdim=True))) \n",
    "dist = torch.distributions.Categorical(tt)\n",
    "dist.log_prob(torch.tensor([2, 1, 1], dtype=torch.int64))\n",
    "# dist.sample()\n",
    "# print(torch.log(torch.tensor()))"
   ]
  },
  {
   "cell_type": "code",
   "execution_count": 3,
   "id": "6e417aa3",
   "metadata": {},
   "outputs": [
    {
     "name": "stdout",
     "output_type": "stream",
     "text": [
      "tensor([0.0909, 0.1818, 0.7273])\n",
      "tensor(2)\n",
      "tensor(-0.3185)\n",
      "tensor(-0.3184)\n"
     ]
    }
   ],
   "source": [
    "torch.log(torch.tensor(0.0900))\n",
    "probs = torch.tensor([0.1, 0.2, 0.8])\n",
    "print(probs / probs.sum())\n",
    "dist = torch.distributions.Categorical(probs)\n",
    "sample = dist.sample()  # 随机采样一个类别\n",
    "logp = dist.log_prob(torch.tensor(2))  # 计算类别2的对数概率\n",
    "print(sample)\n",
    "print(logp)\n",
    "print(torch.log(torch.tensor(0.7273)))"
   ]
  },
  {
   "cell_type": "code",
   "execution_count": null,
   "id": "bc6a7ee9",
   "metadata": {},
   "outputs": [
    {
     "name": "stdout",
     "output_type": "stream",
     "text": [
      "[-0.04812061 -0.03584627 -0.00267719  0.01096264]\n"
     ]
    },
    {
     "ename": "",
     "evalue": "",
     "output_type": "error",
     "traceback": [
      "\u001b[1;31m在当前单元格或上一个单元格中执行代码时 Kernel 崩溃。\n",
      "\u001b[1;31m请查看单元格中的代码，以确定故障的可能原因。\n",
      "\u001b[1;31m单击<a href='https://aka.ms/vscodeJupyterKernelCrash'>此处</a>了解详细信息。\n",
      "\u001b[1;31m有关更多详细信息，请查看 Jupyter <a href='command:jupyter.viewOutput'>log</a>。"
     ]
    }
   ],
   "source": [
    "env = gym.make('CartPole-v1', render_mode=\"human\")\n",
    "    # 获取状态和动作空间的维度\n",
    "state_dim = env.observation_space.shape[0]  # 值为4，表示：\n",
    "action_dim = env.action_space.n  # 值为2，表示：\n",
    "state, _ = env.reset()         # 重置环境，获取初始状态\n",
    "print(state)"
   ]
  },
  {
   "cell_type": "code",
   "execution_count": 5,
   "id": "a3099acc",
   "metadata": {},
   "outputs": [
    {
     "data": {
      "text/plain": [
       "tensor([[-0.2383,  0.2000,  0.7000],\n",
       "        [ 1.0000,  1.5717,  6.8711]])"
      ]
     },
     "execution_count": 5,
     "metadata": {},
     "output_type": "execute_result"
    }
   ],
   "source": [
    "tt = torch.tensor([\n",
    "    [0.1, 0.2, 0.7],\n",
    "    [1, 2, 7],\n",
    "    ])\n",
    "tt.std()\n",
    "torch.min(tt, tt+torch.rand_like(tt) - 0.5)"
   ]
  }
 ],
 "metadata": {
  "kernelspec": {
   "display_name": "langchain",
   "language": "python",
   "name": "python3"
  },
  "language_info": {
   "codemirror_mode": {
    "name": "ipython",
    "version": 3
   },
   "file_extension": ".py",
   "mimetype": "text/x-python",
   "name": "python",
   "nbconvert_exporter": "python",
   "pygments_lexer": "ipython3",
   "version": "3.11.11"
  }
 },
 "nbformat": 4,
 "nbformat_minor": 5
}
